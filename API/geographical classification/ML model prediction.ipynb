{
 "cells": [
  {
   "cell_type": "code",
   "execution_count": 1,
   "source": [
    "import pandas as pd\r\n",
    "import matplotlib.pyplot as plt"
   ],
   "outputs": [],
   "metadata": {}
  },
  {
   "cell_type": "code",
   "execution_count": 11,
   "source": [
    "import numpy as np\r\n",
    "x=pd.read_csv(\"Maharashtra.csv\")\r\n",
    "y=pd.read_csv(\"Maharashtra.csv\")\r\n",
    "\r\n",
    "y1=list(x[\"YEAR\"])\r\n",
    "x1=list(x[\"June-September\"])\r\n",
    "pr=list(x['SUBDIVISION'])\r\n",
    "z1=list(x[\"JUN\"])\r\n",
    "w1=list(x[\"MAY\"])\r\n",
    "\r\n",
    "plt.plot(y1, x1,'.')\r\n",
    "plt.show()"
   ],
   "outputs": [
    {
     "output_type": "display_data",
     "data": {
      "image/png": "[encoded data removed]",
      "text/plain": [
       "<Figure size 432x288 with 1 Axes>"
      ]
     },
     "metadata": {
      "needs_background": "light"
     }
    }
   ],
   "metadata": {}
  },
  {
   "cell_type": "code",
   "execution_count": 10,
   "source": [
    "flood=[]\r\n",
    "june=[]\r\n",
    "sub=[]\r\n",
    "\r\n",
    "#CREATING A NEW COLOUMN WITH BINARY CLASSIFICATION DEPENDING IF THAT YEAR HAD FLOODED OR NOT, USING RAINFALL OF THAT YEAR AS THRESHOLD\r\n",
    "#print(x1[114])\r\n",
    "for i in range(0,len(x1)):\r\n",
    "    if (x1[i]>3000 and pr[i].strip().contains(\"Konkan\")) or (x1[i]>1000 and not pr[i].strip().contains(\"Konkan\")):\r\n",
    "        flood.append('1')\r\n",
    "    else:\r\n",
    "        flood.append('0')\r\n",
    "\r\n",
    "#print(len(x1))\r\n",
    "\r\n",
    "#APPROAXIMATELY FINDING THE RAINFALL DATA FOR 10 DAYS FOR THE MONTH OF JUNE IN EVERY YEAR FROM 1901 TO 2015\r\n",
    "for k in range(0,len(x1)):\r\n",
    "    june.append(z1[k]/3)\r\n",
    "\r\n",
    "#FINDING THE INCREASE IN RAINFALL FROM THE MONTH OF MAY TO THE MONTH OF JUNE IN EVERY YEAR FROM 1901 TO 2015\r\n",
    "for k in range(0,len(x1)):\r\n",
    "    sub.append(abs(w1[k]-z1[k]))\r\n",
    "\r\n",
    "#print(len(flood),len(x1))\r\n",
    "df = pd.DataFrame({'flood':flood})\r\n",
    "df1=pd.DataFrame({'per_10_days':june})\r\n",
    "\r\n",
    "x[\"flood\"]=flood\r\n",
    "x[\"avgjune\"]=june\r\n",
    "x[\"sub\"]=sub\r\n",
    "\r\n",
    "#SAVING THE NEW CSV FILE WITH THE NEW COLOUMNS\r\n",
    "x.to_csv(\"out1.csv\")\r\n",
    "print((x))"
   ],
   "outputs": [
    {
     "output_type": "stream",
     "name": "stdout",
     "text": [
      "      SUBDIVISION  YEAR   JAN   FEB   MAR   APR    MAY    JUN     JUL    AUG  \\\n",
      "0    Konkan & Goa  1901   5.6   0.1   0.4  35.7   19.9  746.1  1075.5  748.0   \n",
      "1    Konkan & Goa  1902   0.3   0.0   0.0   0.4    7.6  428.2   943.6  515.1   \n",
      "2    Konkan & Goa  1903   0.0   0.0   0.1   0.0  201.1  470.5  1298.6  673.9   \n",
      "3    Konkan & Goa  1904   0.0   0.1   6.6   6.3    4.6  975.8   771.7  321.3   \n",
      "4    Konkan & Goa  1905   0.1   0.1   0.0   0.4    8.6  293.7   770.6  305.5   \n",
      "..            ...   ...   ...   ...   ...   ...    ...    ...     ...    ...   \n",
      "463      Vidarbha  2013   6.6  13.0   3.8   2.8    0.5  366.7   535.5  326.1   \n",
      "464      Vidarbha  2014   1.2  18.3  49.6   2.6    4.0   63.3   337.6  191.7   \n",
      "465      Vidarbha  2015  26.3   4.7  66.3  28.1   12.8  254.6   137.2  288.9   \n",
      "466      Vidarbha  2016   0.7   5.2  20.1   5.1   12.4  165.5   490.2  161.8   \n",
      "467      Vidarbha  2017   0.2   0.0   6.1   0.0    7.3  147.8   252.2  198.3   \n",
      "\n",
      "     ...  ANNUAL  Jan-Feb  Mar-May  June-September  Oct-Dec   Latitude  \\\n",
      "0    ...  2792.8      5.7     56.0          2687.0     44.1  15.300450   \n",
      "1    ...  2674.0      0.3      8.0          2500.7    165.0  15.300450   \n",
      "2    ...  3084.2      0.0    201.2          2728.1    154.9  15.300450   \n",
      "3    ...  2393.7      0.1     17.5          2285.8     90.3  15.300450   \n",
      "4    ...  1682.9      0.2      9.0          1578.1     95.6  15.300450   \n",
      "..   ...     ...      ...      ...             ...      ...        ...   \n",
      "463  ...  1520.2     19.6      7.1          1360.0    133.5  20.858507   \n",
      "464  ...   919.0     19.5     56.2           817.5     25.8  20.858507   \n",
      "465  ...   993.6     31.0    107.2           848.2      7.2  20.858507   \n",
      "466  ...  1163.8      5.9     37.6          1045.3     75.0  20.858507   \n",
      "467  ...   803.0      0.2     13.4           731.6     57.8  20.858507   \n",
      "\n",
      "     Longitude  flood     avgjune    sub  \n",
      "0    74.085510      0  248.700000  726.2  \n",
      "1    74.085510      0  142.733333  420.6  \n",
      "2    74.085510      0  156.833333  269.4  \n",
      "3    74.085510      0  325.266667  971.2  \n",
      "4    74.085510      0   97.900000  285.1  \n",
      "..         ...    ...         ...    ...  \n",
      "463  79.276442      0  122.233333  366.2  \n",
      "464  79.276442      0   21.100000   59.3  \n",
      "465  79.276442      0   84.866667  241.8  \n",
      "466  79.276442      0   55.166667  153.1  \n",
      "467  79.276442      0   49.266667  140.5  \n",
      "\n",
      "[468 rows x 24 columns]\n"
     ]
    }
   ],
   "metadata": {}
  },
  {
   "cell_type": "code",
   "execution_count": 12,
   "source": [
    "import scipy \r\n",
    "from scipy.stats import spearmanr\r\n",
    "\r\n",
    "from sklearn.ensemble import RandomForestClassifier\r\n",
    "from sklearn.preprocessing import scale\r\n",
    "from sklearn.linear_model import LogisticRegression\r\n",
    "from sklearn.model_selection import train_test_split\r\n",
    "from sklearn import preprocessing"
   ],
   "outputs": [],
   "metadata": {}
  },
  {
   "cell_type": "code",
   "execution_count": 20,
   "source": [
    "x=pd.read_csv('out1.csv')\r\n",
    "\r\n",
    "X = x.loc[:,[\"Mar-May\",\"avgjune\",\"sub\"]].values\r\n",
    "y1=x.loc[:,\"flood\"].values\r\n",
    "\r\n",
    "(X_train, X_test, Y_train, Y_test) = train_test_split(X, y1, random_state=0)\r\n",
    "\r\n",
    "\r\n",
    "Lr=LogisticRegression()\r\n",
    "\r\n",
    "Lr.fit(X,y1)\r\n",
    "print(Lr.score(X,y1))\r\n",
    "\r\n",
    "\r\n",
    "\r\n",
    "\r\n"
   ],
   "outputs": [
    {
     "output_type": "stream",
     "name": "stdout",
     "text": [
      "0.9145299145299145\n",
      "0.9230769230769231\n"
     ]
    }
   ],
   "metadata": {}
  },
  {
   "cell_type": "code",
   "execution_count": null,
   "source": [
    "# measuring accuracy"
   ],
   "outputs": [],
   "metadata": {}
  },
  {
   "cell_type": "code",
   "execution_count": null,
   "source": [],
   "outputs": [],
   "metadata": {}
  },
  {
   "cell_type": "code",
   "execution_count": null,
   "source": [],
   "outputs": [],
   "metadata": {}
  }
 ],
 "metadata": {
  "kernelspec": {
   "name": "python3",
   "display_name": "Python 3.9.7 64-bit"
  },
  "language_info": {
   "codemirror_mode": {
    "name": "ipython",
    "version": 3
   },
   "file_extension": ".py",
   "mimetype": "text/x-python",
   "name": "python",
   "nbconvert_exporter": "python",
   "pygments_lexer": "ipython3",
   "version": "3.9.7"
  },
  "interpreter": {
   "hash": "63fd5069d213b44bf678585dea6b12cceca9941eaf7f819626cde1f2670de90d"
  }
 },
 "nbformat": 4,
 "nbformat_minor": 2
}